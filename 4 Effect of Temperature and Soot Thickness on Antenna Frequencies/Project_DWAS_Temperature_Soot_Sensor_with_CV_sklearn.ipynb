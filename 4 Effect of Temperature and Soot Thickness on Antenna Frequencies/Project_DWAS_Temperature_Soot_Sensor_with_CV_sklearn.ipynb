{
 "cells": [
  {
   "cell_type": "code",
   "execution_count": 1,
   "id": "020dc0d1-15bd-40bf-a673-5cc92885e152",
   "metadata": {
    "ExecuteTime": {
     "end_time": "2025-02-18T00:46:06.625515Z",
     "start_time": "2025-02-18T00:46:06.619732Z"
    }
   },
   "outputs": [],
   "source": [
    "# Study of the effect of temperature and soot thickness  on the antenna frequencies\n",
    "# Using Sci-kit Learn to validate performance from previous code\n",
    "# See publication: Microstrip patch antenna for simultaneous temperature sensing and superstrate characterization"
   ]
  },
  {
   "cell_type": "code",
   "execution_count": 2,
   "id": "b526d5fe-9a58-44da-b808-50cb0cdf2679",
   "metadata": {
    "ExecuteTime": {
     "end_time": "2025-02-18T00:46:07.421967Z",
     "start_time": "2025-02-18T00:46:06.629522Z"
    }
   },
   "outputs": [],
   "source": [
    "import numpy as np\n",
    "import pandas as pd\n",
    "import matplotlib.pyplot as plt\n",
    "from sklearn.model_selection import train_test_split, KFold, cross_validate\n",
    "from sklearn.preprocessing import StandardScaler, PolynomialFeatures\n",
    "from sklearn.multioutput import MultiOutputRegressor\n",
    "from sklearn.linear_model import LinearRegression\n",
    "from sklearn.metrics import mean_squared_error as mse\n",
    "from sklearn.metrics import r2_score as r2"
   ]
  },
  {
   "cell_type": "code",
   "execution_count": 3,
   "id": "ffe4bf6f-ca3c-42a7-a13b-de4c730f3205",
   "metadata": {
    "ExecuteTime": {
     "end_time": "2025-02-18T00:46:07.425039Z",
     "start_time": "2025-02-18T00:46:07.422773Z"
    }
   },
   "outputs": [],
   "source": [
    "np.set_printoptions(precision=6)\n",
    "np.random.seed(42)"
   ]
  },
  {
   "cell_type": "code",
   "execution_count": 4,
   "id": "f70e6fe9-7f8b-4f34-add9-9eb649285afe",
   "metadata": {
    "ExecuteTime": {
     "end_time": "2025-02-18T00:46:07.588717Z",
     "start_time": "2025-02-18T00:46:07.424892Z"
    }
   },
   "outputs": [],
   "source": [
    "# Load data\n",
    "df = pd.read_csv('T_h_ff_data.csv')"
   ]
  },
  {
   "cell_type": "code",
   "execution_count": 5,
   "id": "bd2c2acb-881b-4c0b-b04e-ee9d3e50e78b",
   "metadata": {
    "ExecuteTime": {
     "end_time": "2025-02-18T00:46:07.596485Z",
     "start_time": "2025-02-18T00:46:07.591379Z"
    }
   },
   "outputs": [
    {
     "data": {
      "text/html": [
       "<div>\n",
       "<style scoped>\n",
       "    .dataframe tbody tr th:only-of-type {\n",
       "        vertical-align: middle;\n",
       "    }\n",
       "\n",
       "    .dataframe tbody tr th {\n",
       "        vertical-align: top;\n",
       "    }\n",
       "\n",
       "    .dataframe thead th {\n",
       "        text-align: right;\n",
       "    }\n",
       "</style>\n",
       "<table border=\"1\" class=\"dataframe\">\n",
       "  <thead>\n",
       "    <tr style=\"text-align: right;\">\n",
       "      <th></th>\n",
       "      <th>Temperature</th>\n",
       "      <th>Superstrate_thickness</th>\n",
       "      <th>Frequency10</th>\n",
       "      <th>Frequency01</th>\n",
       "    </tr>\n",
       "  </thead>\n",
       "  <tbody>\n",
       "    <tr>\n",
       "      <th>0</th>\n",
       "      <td>22.980204</td>\n",
       "      <td>0</td>\n",
       "      <td>2.549826</td>\n",
       "      <td>3.293016</td>\n",
       "    </tr>\n",
       "    <tr>\n",
       "      <th>1</th>\n",
       "      <td>23.159179</td>\n",
       "      <td>0</td>\n",
       "      <td>2.549910</td>\n",
       "      <td>3.293125</td>\n",
       "    </tr>\n",
       "    <tr>\n",
       "      <th>2</th>\n",
       "      <td>22.926659</td>\n",
       "      <td>0</td>\n",
       "      <td>2.549801</td>\n",
       "      <td>3.292983</td>\n",
       "    </tr>\n",
       "    <tr>\n",
       "      <th>3</th>\n",
       "      <td>22.923294</td>\n",
       "      <td>0</td>\n",
       "      <td>2.549799</td>\n",
       "      <td>3.292981</td>\n",
       "    </tr>\n",
       "    <tr>\n",
       "      <th>4</th>\n",
       "      <td>22.968323</td>\n",
       "      <td>0</td>\n",
       "      <td>2.549820</td>\n",
       "      <td>3.293008</td>\n",
       "    </tr>\n",
       "  </tbody>\n",
       "</table>\n",
       "</div>"
      ],
      "text/plain": [
       "   Temperature  Superstrate_thickness  Frequency10  Frequency01\n",
       "0    22.980204                      0     2.549826     3.293016\n",
       "1    23.159179                      0     2.549910     3.293125\n",
       "2    22.926659                      0     2.549801     3.292983\n",
       "3    22.923294                      0     2.549799     3.292981\n",
       "4    22.968323                      0     2.549820     3.293008"
      ]
     },
     "execution_count": 5,
     "metadata": {},
     "output_type": "execute_result"
    }
   ],
   "source": [
    "df.head(5)"
   ]
  },
  {
   "cell_type": "code",
   "execution_count": 6,
   "id": "69039ce9-5c28-433b-9ffb-fab455adda3f",
   "metadata": {
    "ExecuteTime": {
     "end_time": "2025-02-18T00:46:07.605339Z",
     "start_time": "2025-02-18T00:46:07.595789Z"
    }
   },
   "outputs": [
    {
     "name": "stdout",
     "output_type": "stream",
     "text": [
      "<class 'pandas.core.frame.DataFrame'>\n",
      "RangeIndex: 875000 entries, 0 to 874999\n",
      "Data columns (total 4 columns):\n",
      " #   Column                 Non-Null Count   Dtype  \n",
      "---  ------                 --------------   -----  \n",
      " 0   Temperature            875000 non-null  float64\n",
      " 1   Superstrate_thickness  875000 non-null  int64  \n",
      " 2   Frequency10            875000 non-null  float64\n",
      " 3   Frequency01            875000 non-null  float64\n",
      "dtypes: float64(3), int64(1)\n",
      "memory usage: 26.7 MB\n"
     ]
    }
   ],
   "source": [
    "df.info()"
   ]
  },
  {
   "cell_type": "code",
   "execution_count": 7,
   "id": "18f9b2b9-e98c-4376-9e30-a2d4a9077c2e",
   "metadata": {
    "ExecuteTime": {
     "end_time": "2025-02-18T00:46:07.679190Z",
     "start_time": "2025-02-18T00:46:07.605287Z"
    }
   },
   "outputs": [
    {
     "data": {
      "text/html": [
       "<div>\n",
       "<style scoped>\n",
       "    .dataframe tbody tr th:only-of-type {\n",
       "        vertical-align: middle;\n",
       "    }\n",
       "\n",
       "    .dataframe tbody tr th {\n",
       "        vertical-align: top;\n",
       "    }\n",
       "\n",
       "    .dataframe thead th {\n",
       "        text-align: right;\n",
       "    }\n",
       "</style>\n",
       "<table border=\"1\" class=\"dataframe\">\n",
       "  <thead>\n",
       "    <tr style=\"text-align: right;\">\n",
       "      <th></th>\n",
       "      <th>Temperature</th>\n",
       "      <th>Superstrate_thickness</th>\n",
       "      <th>Frequency10</th>\n",
       "      <th>Frequency01</th>\n",
       "    </tr>\n",
       "  </thead>\n",
       "  <tbody>\n",
       "    <tr>\n",
       "      <th>count</th>\n",
       "      <td>875000.000000</td>\n",
       "      <td>875000.000000</td>\n",
       "      <td>875000.000000</td>\n",
       "      <td>875000.000000</td>\n",
       "    </tr>\n",
       "    <tr>\n",
       "      <th>mean</th>\n",
       "      <td>84.406420</td>\n",
       "      <td>785.714286</td>\n",
       "      <td>2.539524</td>\n",
       "      <td>3.281933</td>\n",
       "    </tr>\n",
       "    <tr>\n",
       "      <th>std</th>\n",
       "      <td>36.136104</td>\n",
       "      <td>523.282718</td>\n",
       "      <td>0.026830</td>\n",
       "      <td>0.032525</td>\n",
       "    </tr>\n",
       "    <tr>\n",
       "      <th>min</th>\n",
       "      <td>22.672287</td>\n",
       "      <td>0.000000</td>\n",
       "      <td>2.489885</td>\n",
       "      <td>3.224244</td>\n",
       "    </tr>\n",
       "    <tr>\n",
       "      <th>25%</th>\n",
       "      <td>54.394810</td>\n",
       "      <td>280.000000</td>\n",
       "      <td>2.519034</td>\n",
       "      <td>3.256539</td>\n",
       "    </tr>\n",
       "    <tr>\n",
       "      <th>50%</th>\n",
       "      <td>84.559952</td>\n",
       "      <td>770.000000</td>\n",
       "      <td>2.537681</td>\n",
       "      <td>3.279709</td>\n",
       "    </tr>\n",
       "    <tr>\n",
       "      <th>75%</th>\n",
       "      <td>114.465955</td>\n",
       "      <td>1270.000000</td>\n",
       "      <td>2.557569</td>\n",
       "      <td>3.303040</td>\n",
       "    </tr>\n",
       "    <tr>\n",
       "      <th>max</th>\n",
       "      <td>144.800752</td>\n",
       "      <td>1600.000000</td>\n",
       "      <td>2.607203</td>\n",
       "      <td>3.367298</td>\n",
       "    </tr>\n",
       "  </tbody>\n",
       "</table>\n",
       "</div>"
      ],
      "text/plain": [
       "         Temperature  Superstrate_thickness    Frequency10    Frequency01\n",
       "count  875000.000000          875000.000000  875000.000000  875000.000000\n",
       "mean       84.406420             785.714286       2.539524       3.281933\n",
       "std        36.136104             523.282718       0.026830       0.032525\n",
       "min        22.672287               0.000000       2.489885       3.224244\n",
       "25%        54.394810             280.000000       2.519034       3.256539\n",
       "50%        84.559952             770.000000       2.537681       3.279709\n",
       "75%       114.465955            1270.000000       2.557569       3.303040\n",
       "max       144.800752            1600.000000       2.607203       3.367298"
      ]
     },
     "execution_count": 7,
     "metadata": {},
     "output_type": "execute_result"
    }
   ],
   "source": [
    "df.describe()"
   ]
  },
  {
   "cell_type": "code",
   "execution_count": 8,
   "id": "beef38f1-0c03-4e4e-8940-8919e779a14f",
   "metadata": {
    "ExecuteTime": {
     "end_time": "2025-02-18T00:46:07.680050Z",
     "start_time": "2025-02-18T00:46:07.678453Z"
    }
   },
   "outputs": [],
   "source": [
    "# Domain knowledge: Sooth thickness and temperature changes affect both sensor frequencies. The sensor resonates at two\n",
    "# frequencies f10 and f01. There are two inputs (Superstrate_thickness and temperature) and two outputs (f10 and f01)\n",
    "h = df['Superstrate_thickness']\n",
    "T = df['Temperature'] \n",
    "f10 = df['Frequency10']\n",
    "f01 = df['Frequency01']"
   ]
  },
  {
   "cell_type": "code",
   "execution_count": 9,
   "id": "e8e42c46-341e-49fe-94f1-b5e0646e863f",
   "metadata": {
    "ExecuteTime": {
     "end_time": "2025-02-18T00:46:07.685139Z",
     "start_time": "2025-02-18T00:46:07.680517Z"
    }
   },
   "outputs": [],
   "source": [
    "X = np.c_[T, h]  # Features\n",
    "Y = np.c_[f10, f01]  # Targets"
   ]
  },
  {
   "cell_type": "code",
   "execution_count": 10,
   "id": "96d633dc-5b5c-4abc-b4cf-eab114be28f8",
   "metadata": {
    "ExecuteTime": {
     "end_time": "2025-02-18T00:46:09.515144Z",
     "start_time": "2025-02-18T00:46:07.687405Z"
    }
   },
   "outputs": [
    {
     "data": {
      "text/plain": [
       "Text(0.5, 0.98, 'Sensor frequencies vs. soot and temperature')"
      ]
     },
     "execution_count": 10,
     "metadata": {},
     "output_type": "execute_result"
    },
    {
     "data": {
      "image/png": "[encoded data removed]",
      "text/plain": [
       "<Figure size 640x480 with 4 Axes>"
      ]
     },
     "metadata": {},
     "output_type": "display_data"
    }
   ],
   "source": [
    "# Visualizing data\n",
    "fig, ax = plt.subplots(2, 2, sharex='col', sharey='row')\n",
    "\n",
    "for j in range(2):\n",
    "    for i in range(len(ax)):\n",
    "        ax[j, i].scatter(X[:, i], Y[:, j], s=10)\n",
    "\n",
    "ax[1, 0].set_xlabel('Temperature ($^o$C)')\n",
    "ax[1, 1].set_xlabel('Soot thickness ($\\\\mu$m)')\n",
    "ax[0, 0].set_ylabel('Frequency 10')\n",
    "ax[1, 0].set_ylabel('Frequency 01')\n",
    "\n",
    "ax[1, 0].set_xticks(np.linspace(20, 160, 5))\n",
    "ax[1, 1].set_xticks(np.linspace(0, 1600, 5))\n",
    "ax[0, 0].set_yticks(np.linspace(2.47, 2.62, 4))\n",
    "ax[1, 0].set_yticks(np.linspace(3.2, 3.38, 4))\n",
    "\n",
    "# plt.subplots_adjust(wspace=0.3, hspace=0.3)\n",
    "fig.suptitle('Sensor frequencies vs. soot and temperature', weight='bold')"
   ]
  },
  {
   "cell_type": "code",
   "execution_count": 11,
   "id": "b4b401e8-eb4d-4e76-86b8-e29c77ec08fd",
   "metadata": {
    "ExecuteTime": {
     "end_time": "2025-02-18T00:46:09.525647Z",
     "start_time": "2025-02-18T00:46:09.517306Z"
    }
   },
   "outputs": [],
   "source": [
    "# As shown and from knowledge of previous studies, the frequencies are linear functions of the temperature.\n",
    "# At constant sooth thickness, the frequencies increase linearly with temperature change. At constant \n",
    "# temperature, the best fit for soot thickness is a second-order polynomial. We need feature engineering.\n",
    "\n",
    "# Feature engineering\n",
    "X_mapped = np.c_[h, h ** 2, T * h, T]\n"
   ]
  },
  {
   "cell_type": "code",
   "execution_count": 12,
   "id": "aec1dfcd-2037-4872-b645-139bc8bc20d9",
   "metadata": {
    "ExecuteTime": {
     "end_time": "2025-02-18T00:46:09.671631Z",
     "start_time": "2025-02-18T00:46:09.526619Z"
    }
   },
   "outputs": [
    {
     "name": "stdout",
     "output_type": "stream",
     "text": [
      "Peak to Peak range by column in raw training set:[1.600000e+03 2.560000e+06 2.315252e+05 1.221285e+02]\n",
      "Peak to Peak range by column in normalized training set:[3.05707  2.944237 4.147599 3.379336]\n"
     ]
    }
   ],
   "source": [
    "#  Data split and feature scaling\n",
    "X_train_mapped, X_test_mapped, Y_train, Y_test = train_test_split(X_mapped, Y, train_size=0.9, random_state=42)\n",
    "\n",
    "scaler = StandardScaler()\n",
    "X_train_mapped_scaled = scaler.fit_transform(X_train_mapped)\n",
    "X_test_mapped_scaled = scaler.transform(X_test_mapped)\n",
    "\n",
    "print(f\"Peak to Peak range by column in raw training set:{np.ptp(X_train_mapped, axis=0)}\")\n",
    "print(f\"Peak to Peak range by column in normalized training set:{np.ptp(X_train_mapped_scaled, axis=0)}\")"
   ]
  },
  {
   "cell_type": "code",
   "execution_count": 13,
   "id": "44377c26-89b0-48b1-9715-cce1b3a7ff65",
   "metadata": {
    "ExecuteTime": {
     "end_time": "2025-02-18T00:46:10.149613Z",
     "start_time": "2025-02-18T00:46:09.671816Z"
    }
   },
   "outputs": [],
   "source": [
    "# Define the model\n",
    "model = MultiOutputRegressor(LinearRegression())\n",
    "\n",
    "# Define cross-validation strategy\n",
    "cv = KFold(n_splits=5, shuffle=True, random_state=42)\n",
    "\n",
    "# Perform cross-validation\n",
    "cv_results = cross_validate(model, X_train_mapped_scaled, Y_train, cv=cv, return_estimator=True, scoring=['neg_mean_squared_error', 'r2'])"
   ]
  },
  {
   "cell_type": "code",
   "execution_count": 14,
   "id": "4e1a5b47-6474-4d8f-bbe5-a2b18f593e76",
   "metadata": {
    "ExecuteTime": {
     "end_time": "2025-02-18T00:46:10.196961Z",
     "start_time": "2025-02-18T00:46:10.165356Z"
    }
   },
   "outputs": [
    {
     "data": {
      "text/plain": [
       "{'fit_time': array([0.10922 , 0.261951, 0.282255, 0.399245, 0.250841]),\n",
       " 'score_time': array([0.04829 , 0.069914, 0.043507, 0.096065, 0.071994]),\n",
       " 'estimator': [MultiOutputRegressor(estimator=LinearRegression()),\n",
       "  MultiOutputRegressor(estimator=LinearRegression()),\n",
       "  MultiOutputRegressor(estimator=LinearRegression()),\n",
       "  MultiOutputRegressor(estimator=LinearRegression()),\n",
       "  MultiOutputRegressor(estimator=LinearRegression())],\n",
       " 'test_neg_mean_squared_error': array([-8.328394e-20, -8.317377e-20, -8.318237e-20, -8.355458e-20,\n",
       "        -8.308943e-20]),\n",
       " 'test_r2': array([1., 1., 1., 1., 1.])}"
      ]
     },
     "execution_count": 14,
     "metadata": {},
     "output_type": "execute_result"
    }
   ],
   "source": [
    "cv_results"
   ]
  },
  {
   "cell_type": "code",
   "execution_count": 15,
   "id": "4461ead1-81d5-4d1e-b52b-93075fd60fe4",
   "metadata": {
    "ExecuteTime": {
     "end_time": "2025-02-18T00:46:10.295279Z",
     "start_time": "2025-02-18T00:46:10.180288Z"
    }
   },
   "outputs": [
    {
     "name": "stdout",
     "output_type": "stream",
     "text": [
      "Training loss:  4.162770032854798e-20\n",
      "Test loss:  4.183898079218954e-20\n"
     ]
    }
   ],
   "source": [
    "best_index = np.argmax(cv_results['test_r2'])\n",
    "best_estimator = cv_results['estimator'][best_index]\n",
    "best_estimator.fit(X_train_mapped_scaled, Y_train)\n",
    "Cost_train = mse(Y_train, best_estimator.predict(X_train_mapped_scaled)) / 2\n",
    "Cost_test = mse(Y_test, best_estimator.fit(X_train_mapped_scaled, Y_train).predict(X_test_mapped_scaled)) / 2\n",
    "\n",
    "print(\"Training loss: \", Cost_train)\n",
    "print(\"Test loss: \", Cost_test)"
   ]
  },
  {
   "cell_type": "code",
   "execution_count": 16,
   "id": "aa128efb-a99a-45b6-b556-69cb68b9220d",
   "metadata": {
    "ExecuteTime": {
     "end_time": "2025-02-18T00:46:10.376689Z",
     "start_time": "2025-02-18T00:46:10.312149Z"
    }
   },
   "outputs": [],
   "source": [
    "# Evaluate the model\n",
    "individual_train_scores = []\n",
    "individual_test_scores = []\n",
    "\n",
    "# Calculate the score for each target variable separately\n",
    "individual_train_scores = r2(Y_train, best_estimator.predict(X_train_mapped_scaled), multioutput='raw_values')\n",
    "individual_test_scores = r2(Y_test, best_estimator.predict(X_test_mapped_scaled), multioutput='raw_values')"
   ]
  },
  {
   "cell_type": "code",
   "execution_count": 17,
   "id": "45b772ab-2fae-485b-9519-95589d940d2d",
   "metadata": {
    "ExecuteTime": {
     "end_time": "2025-02-18T00:46:10.418668Z",
     "start_time": "2025-02-18T00:46:10.386289Z"
    }
   },
   "outputs": [
    {
     "name": "stdout",
     "output_type": "stream",
     "text": [
      "Training scores for each target: [1. 1.]\n",
      "Test scores for each target: [1. 1.]\n"
     ]
    }
   ],
   "source": [
    "print(f\"Training scores for each target: {np.array(individual_train_scores)}\")\n",
    "print(f\"Test scores for each target: {np.array(individual_test_scores)}\")"
   ]
  },
  {
   "cell_type": "code",
   "execution_count": 18,
   "id": "973e3fe4-39f9-405d-b163-6c2e8a825f7c",
   "metadata": {
    "ExecuteTime": {
     "end_time": "2025-02-18T00:46:10.444229Z",
     "start_time": "2025-02-18T00:46:10.412823Z"
    }
   },
   "outputs": [],
   "source": [
    "# Extract the trained base regressors from MultiOutputRegressor\n",
    "base_final = best_estimator.estimators_\n",
    "W = np.array([regressor.coef_ for regressor in base_final])  \n",
    "b = np.array([regressor.intercept_ for regressor in base_final])"
   ]
  },
  {
   "cell_type": "code",
   "execution_count": 19,
   "id": "6e0e2fa7-fdf6-4d4e-8cd7-9e6144c81294",
   "metadata": {
    "ExecuteTime": {
     "end_time": "2025-02-18T00:46:10.494818Z",
     "start_time": "2025-02-18T00:46:10.450787Z"
    }
   },
   "outputs": [
    {
     "name": "stdout",
     "output_type": "stream",
     "text": [
      "Training cost: 4.162770e-20, Test cost: 4.183898e-20\n",
      "Model score: 0.9999999999999999\n",
      "W: [[-0.041326  0.022676 -0.000371  0.017025]\n",
      " [-0.053646  0.033832 -0.002261  0.022042]]\n",
      "b: [2.539521 3.28193 ]\n"
     ]
    }
   ],
   "source": [
    "print(\"Training cost: %e, Test cost: %e\" % (Cost_train, Cost_test))\n",
    "print(f\"Model score: {best_estimator.score(X_test_mapped_scaled, Y_test)}\")\n",
    "print(f\"W: {W}\")\n",
    "print(f\"b: {b}\")"
   ]
  },
  {
   "cell_type": "code",
   "execution_count": 20,
   "id": "7fd46468-fa60-407b-8c64-d9a19cbe608b",
   "metadata": {
    "ExecuteTime": {
     "end_time": "2025-02-18T00:46:10.534033Z",
     "start_time": "2025-02-18T00:46:10.492892Z"
    }
   },
   "outputs": [],
   "source": [
    "# Final note: If you do not have domain knowledge, you can apply feature engineering to a higher polynomial order. \n",
    "# Then, apply regularization if needed. If you would like to know how this was done in previous studies to aid in \n",
    "# the selection of the current features, check out my previous work on the effect of temperature on the antenna \n",
    "# frequencies and the effect of soot/superstrate thickness on the antenna frequencies.\n",
    "# Thanks."
   ]
  }
 ],
 "metadata": {
  "kernelspec": {
   "display_name": "Python 3 (ipykernel)",
   "language": "python",
   "name": "python3"
  },
  "language_info": {
   "codemirror_mode": {
    "name": "ipython",
    "version": 3
   },
   "file_extension": ".py",
   "mimetype": "text/x-python",
   "name": "python",
   "nbconvert_exporter": "python",
   "pygments_lexer": "ipython3",
   "version": "3.12.0"
  }
 },
 "nbformat": 4,
 "nbformat_minor": 5
}
